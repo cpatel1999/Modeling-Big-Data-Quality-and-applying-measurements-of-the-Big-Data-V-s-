{
  "nbformat": 4,
  "nbformat_minor": 0,
  "metadata": {
    "colab": {
      "name": "COMP_6611_Step 5.ipynb",
      "provenance": [],
      "collapsed_sections": []
    },
    "kernelspec": {
      "name": "python3",
      "display_name": "Python 3"
    },
    "language_info": {
      "name": "python"
    }
  },
  "cells": [
    {
      "cell_type": "code",
      "execution_count": null,
      "metadata": {
        "id": "VWo_RpsZT1dJ"
      },
      "outputs": [],
      "source": [
        "import pandas as pd\n",
        "import numpy as np\n",
        "import math\n",
        "import matplotlib.pyplot as plt\n",
        "import datetime\n",
        "import warnings"
      ]
    },
    {
      "cell_type": "code",
      "source": [
        "from google.colab import drive\n",
        "drive.mount('/content/drive', force_remount=True)\n"
      ],
      "metadata": {
        "colab": {
          "base_uri": "https://localhost:8080/"
        },
        "id": "N0jwz0PTUTU7",
        "outputId": "f5d82216-888b-4fa7-ebf6-a7b2bcde04c7"
      },
      "execution_count": null,
      "outputs": [
        {
          "output_type": "stream",
          "name": "stdout",
          "text": [
            "Mounted at /content/drive\n"
          ]
        }
      ]
    },
    {
      "cell_type": "markdown",
      "source": [
        "Extracting Dataset and displaying top 5 data of the dataset"
      ],
      "metadata": {
        "id": "Ml3KfEPTHyzb"
      }
    },
    {
      "cell_type": "code",
      "source": [
        "from pandas.io.parsers.readers import read_csv\n",
        "dir_path = \"/content/drive/My Drive/SOEN6611_ProjectDataset/IBM.csv\"\n",
        "\n",
        "df = read_csv(dir_path)\n",
        "\n",
        "df.head()\n",
        "df.shape"
      ],
      "metadata": {
        "id": "nszLDnRFWWYI",
        "colab": {
          "base_uri": "https://localhost:8080/"
        },
        "outputId": "e66406a7-c459-4c74-e776-b54721109993"
      },
      "execution_count": null,
      "outputs": [
        {
          "output_type": "execute_result",
          "data": {
            "text/plain": [
              "(1470, 35)"
            ]
          },
          "metadata": {},
          "execution_count": 596
        }
      ]
    },
    {
      "cell_type": "markdown",
      "source": [
        "Splitting the dataset into three data time frames namely T1, T2 and T3"
      ],
      "metadata": {
        "id": "7Jjr9_Z5H7rp"
      }
    },
    {
      "cell_type": "code",
      "source": [
        "#Getting rows and columns\n",
        "df.shape\n",
        "\n",
        "#Dividing dataset into three dataframes t1, t2 and t3 for quality analysis. \n",
        "df_T1 = df.iloc[:400,:]\n",
        "df_T2 = df.iloc[401:900,:]\n",
        "df_T3 = df.iloc[901:,:]\n",
        "\n",
        "print(\"The Size of all three timeframes are :  {}, {}, and {}\".format(df_T1.shape, df_T2.shape, df_T3.shape))"
      ],
      "metadata": {
        "colab": {
          "base_uri": "https://localhost:8080/"
        },
        "id": "m_ty5PONS5DG",
        "outputId": "632c0bd4-aff3-400a-9569-cb58ef426aa7"
      },
      "execution_count": null,
      "outputs": [
        {
          "output_type": "stream",
          "name": "stdout",
          "text": [
            "The Size of all three timeframes are :  (400, 35), (499, 35), and (569, 35)\n"
          ]
        }
      ]
    },
    {
      "cell_type": "markdown",
      "source": [
        "Displaying the size of each data time frame (T1, T2 and T3)"
      ],
      "metadata": {
        "id": "nRQQXn89IE9Y"
      }
    },
    {
      "cell_type": "code",
      "source": [
        "#Getting the length of big data.\n",
        "lbd_T1 = df_T1.shape[0]\n",
        "lbd_T2 = df_T2.shape[0] + lbd_T1\n",
        "lbd_T3 = df_T3.shape[0] + lbd_T2\n",
        "\n",
        "print(\"The length of big data at each time frame would be: {}, {}, and {}\".format(lbd_T1, lbd_T2, lbd_T3))"
      ],
      "metadata": {
        "colab": {
          "base_uri": "https://localhost:8080/"
        },
        "id": "q6tRK3oitB5-",
        "outputId": "f0ff369f-18e0-4d47-d9ae-812fe992de95"
      },
      "execution_count": null,
      "outputs": [
        {
          "output_type": "stream",
          "name": "stdout",
          "text": [
            "The length of big data at each time frame would be: 400, 899, and 1468\n"
          ]
        }
      ]
    },
    {
      "cell_type": "code",
      "source": [
        "nds_T1 = 1\n",
        "nds_T2 = 1\n",
        "nds_T3 = 1"
      ],
      "metadata": {
        "id": "TgTGA7fwhN-S"
      },
      "execution_count": null,
      "outputs": []
    },
    {
      "cell_type": "code",
      "source": [
        "numberOfDistinctDataElements_T1 = 0\n",
        "numberOfDistinctDataElements_T2 = 0\n",
        "numberOfDistinctDataElements_T3 = 0\n",
        "\n",
        "for col in df_T1.columns:\n",
        "  numberOfDistinctDataElements_T1 += len(df_T1[col].unique()) \n",
        "print(\"Ndde at Time frame T1: \" , numberOfDistinctDataElements_T1)\n",
        "\n",
        "for col in df_T2.columns:\n",
        "  numberOfDistinctDataElements_T2 += len(pd.concat([df_T1, df_T2])[col].unique()) \n",
        "print(\"Ndde at Time frame T2: \" , numberOfDistinctDataElements_T2)\n",
        "\n",
        "for col in df_T3.columns:\n",
        "  numberOfDistinctDataElements_T3 += len(pd.concat([df_T1, df_T2, df_T3])[col].unique()) \n",
        "print(\"Ndde at Time frame T3: \" , numberOfDistinctDataElements_T3)\n"
      ],
      "metadata": {
        "colab": {
          "base_uri": "https://localhost:8080/"
        },
        "id": "LkXLvu4lWDZc",
        "outputId": "2c3ce22c-2495-4279-98d5-ec9dde730159"
      },
      "execution_count": null,
      "outputs": [
        {
          "output_type": "stream",
          "name": "stdout",
          "text": [
            "Ndde at Time frame T1:  1896\n",
            "Ndde at Time frame T2:  3655\n",
            "Ndde at Time frame T3:  5500\n"
          ]
        }
      ]
    },
    {
      "cell_type": "code",
      "source": [
        "def calculate_acc_records(df):\n",
        "  df = df.sort_values('YearsAtCompany')\n",
        "  # print(df_T1) \n",
        "  lq = df.iloc[round(df.shape[0] * 1/4), df.columns.get_loc('YearsAtCompany')]\n",
        "  uq = df.iloc[round(df.shape[0] * 3/4), df.columns.get_loc('YearsAtCompany')]\n",
        "  # print(lq)\n",
        "  # print(uq)\n",
        "  # Acceptable range is [lq, uq]]\n",
        "  # So the values outside of this range are considered as outliers and we will consider them as outdated records\n",
        "\n",
        "  count_acc_records = 0 # Count of acceptable records \n",
        "  for column in df['YearsAtCompany']:\n",
        "    if column >= lq and column <= uq:\n",
        "      count_acc_records = count_acc_records + 1\n",
        "  return count_acc_records\n",
        "\n",
        "print(\"Rec_acc_age at T1: \", calculate_acc_records(df_T1))\n",
        "print(\"Rec_acc_age at T2: \", calculate_acc_records(df_T2))\n",
        "print(\"Rec_acc_age at T3: \", calculate_acc_records(df_T3))"
      ],
      "metadata": {
        "colab": {
          "base_uri": "https://localhost:8080/"
        },
        "id": "rxNrVykbW_yi",
        "outputId": "3dc5e3a1-6fdf-4654-854f-7cadb78d6be8"
      },
      "execution_count": null,
      "outputs": [
        {
          "output_type": "stream",
          "name": "stdout",
          "text": [
            "Rec_acc_age at T1:  236\n",
            "Rec_acc_age at T2:  302\n",
            "Rec_acc_age at T3:  355\n"
          ]
        }
      ]
    },
    {
      "cell_type": "code",
      "source": [
        "def get_rec_no_null(df, offset):\n",
        "  count_null = 0\n",
        "  count_no_null = 0\n",
        "\n",
        "  # print(df.isnull())\n",
        "  \n",
        "  for i, j in df.iterrows():\n",
        "    for col in range(len(j)):\n",
        "      if(df.iat[i-offset,col] == 'NaN'):\n",
        "        count_null = count_null + 1\n",
        "        break;\n",
        "  \n",
        "  #print(\"Records with null values: \", count_null)\n",
        "  count_no_null = df.shape[0] - count_null\n",
        "  #print(\"Records with no null values: \", count_no_null)\n",
        "  return count_no_null\n",
        "\n",
        "print(\"Rec_no_null at T1: \", get_rec_no_null(df_T1, 0))\n",
        "print(\"Rec_no_null at T2: \", get_rec_no_null(pd.concat([df_T1, df_T2]), 401))\n",
        "print(\"Rec_no_null at T3: \", get_rec_no_null(pd.concat([df_T1, df_T2, df_T3]), 901))"
      ],
      "metadata": {
        "colab": {
          "base_uri": "https://localhost:8080/"
        },
        "id": "_fB09nCWY-SR",
        "outputId": "ae06aac9-558b-4c74-e08b-749ca883ca61"
      },
      "execution_count": null,
      "outputs": [
        {
          "output_type": "stream",
          "name": "stdout",
          "text": [
            "Rec_no_null at T1:  400\n",
            "Rec_no_null at T2:  899\n",
            "Rec_no_null at T3:  1468\n"
          ]
        }
      ]
    },
    {
      "cell_type": "code",
      "source": [
        "def get_complaince_record(df, offset):\n",
        "  count_compliant = 0\n",
        "  compliant = True\n",
        "  for i, j in df.iterrows():\n",
        "    for col in range(len(j)):\n",
        "        # print(type(df_T1.iat[i,col]))\n",
        "        if(type(df.iat[i-offset,col]) != df[df.columns[col]].dtype):\n",
        "          compliant = False\n",
        "          break\n",
        "    if compliant == False:\n",
        "      count_compliant = count_compliant + 1\n",
        "      compliant = True\n",
        "  return count_compliant\n",
        "\n",
        "print(\"comp_record at T1: \", get_complaince_record(df_T1, 0))\n",
        "print(\"comp_record at T2: \", get_complaince_record(pd.concat([df_T1, df_T2]), 401))\n",
        "print(\"comp_record at T3: \", get_complaince_record(pd.concat([df_T1, df_T2, df_T3]), 901))"
      ],
      "metadata": {
        "colab": {
          "base_uri": "https://localhost:8080/"
        },
        "id": "ONItp_cYZ4cX",
        "outputId": "7e7e080e-b0aa-4de5-cd20-e7d4c91c4835"
      },
      "execution_count": null,
      "outputs": [
        {
          "output_type": "stream",
          "name": "stdout",
          "text": [
            "comp_record at T1:  400\n",
            "comp_record at T2:  899\n",
            "comp_record at T3:  1468\n"
          ]
        }
      ]
    },
    {
      "cell_type": "code",
      "source": [
        "def get_rec_trace(df):\n",
        "  rec_no_trac = 0\n",
        "  for column in df['Attrition']:\n",
        "    if (column != 'Yes' and column != 1) and (column != 'No' and column != 0):\n",
        "      rec_no_trac = rec_no_trac + 1\n",
        "\n",
        "  rec_trace = df.shape[0] - rec_no_trac\n",
        "  return rec_trace\n",
        "\n",
        "print(\"rec_trace at T1: \", get_rec_trace(df_T1))\n",
        "print(\"rec_trace at T2: \", get_rec_trace(pd.concat([df_T1, df_T2])))\n",
        "print(\"rec_trace at T3: \", get_rec_trace(pd.concat([df_T1, df_T2, df_T3])))"
      ],
      "metadata": {
        "colab": {
          "base_uri": "https://localhost:8080/"
        },
        "id": "2_yHF_u3fnfC",
        "outputId": "295d90c1-2cf5-4159-fab1-1bc384c61b75"
      },
      "execution_count": null,
      "outputs": [
        {
          "output_type": "stream",
          "name": "stdout",
          "text": [
            "rec_trace at T1:  400\n",
            "rec_trace at T2:  899\n",
            "rec_trace at T3:  1468\n"
          ]
        }
      ]
    },
    {
      "cell_type": "code",
      "source": [
        "print(\"ldst at T1: \", df_T1.shape[0])\n",
        "print(\"ldst at T2: \", pd.concat([df_T1, df_T2]).shape[0])\n",
        "print(\"ldst at T3: \", pd.concat([df_T1, df_T2, df_T3]).shape[0])"
      ],
      "metadata": {
        "colab": {
          "base_uri": "https://localhost:8080/"
        },
        "id": "yXZSvMPKgqmy",
        "outputId": "24a2b5cc-8b14-4bfb-8602-e943b8e628e5"
      },
      "execution_count": null,
      "outputs": [
        {
          "output_type": "stream",
          "name": "stdout",
          "text": [
            "ldst at T1:  400\n",
            "ldst at T2:  899\n",
            "ldst at T3:  1468\n"
          ]
        }
      ]
    },
    {
      "cell_type": "markdown",
      "source": [
        "Evaluating the accuracy of each time frame"
      ],
      "metadata": {
        "id": "uaiyY5f5ILkC"
      }
    },
    {
      "cell_type": "code",
      "source": [
        "#Calculating base measures to be used in calculating veracity of big data\n",
        "\n",
        "#Getting the values of duplicate records (Pj) in the dataset\n",
        "def getAccuracy(df):\n",
        "  ndde = 0\n",
        "\n",
        "  for col in df.columns:\n",
        "    ndde += len(df[col].unique()) \n",
        "  #print(\"Ndde\" , ndde)\n",
        "\n",
        "  TotalDataElements = df.shape[0] * df.shape[1]\n",
        "  #print(\"Total Records in T1\" , TotalDataElements) \n",
        "\n",
        "  pj = TotalDataElements - ndde\n",
        "  #print(\"Pj\" , pj)\n",
        "\n",
        "  lbd = df.shape[0]\n",
        "\n",
        "  #Calculating Hacc\n",
        "  Hacc = math.log2(lbd) - ((1/(lbd*pj*math.log2(pj))))\n",
        "\n",
        "  #print(\"Hacc \", Hacc)\n",
        "\n",
        "  #Calculating Hmax\n",
        "  Hmax = math.log2(lbd)\n",
        "\n",
        "  #print(\"Hmax \", Hmax)\n",
        "\n",
        "  #Calculating Accuracy\n",
        "  acc = Hacc/Hmax\n",
        "  # print(\"Accuracy : \", acc)\n",
        "\n",
        "  return acc"
      ],
      "metadata": {
        "id": "dIKrMlu7V8bJ"
      },
      "execution_count": null,
      "outputs": []
    },
    {
      "cell_type": "markdown",
      "source": [
        "Evaluating Completeness of each data time frame"
      ],
      "metadata": {
        "id": "WLBb4uCCIk-V"
      }
    },
    {
      "cell_type": "code",
      "source": [
        "#Calculating Rec_no_null & Completeness at T1\n",
        "def getCompleteness(df, offset):\n",
        "  count_null = 0\n",
        "  count_no_null = 0\n",
        "\n",
        "  # print(df.isnull())\n",
        "  \n",
        "  for i, j in df.iterrows():\n",
        "    for col in range(len(j)):\n",
        "      if(df.iat[i-offset,col] == 'NaN'):\n",
        "        count_null = count_null + 1\n",
        "        break;\n",
        "  \n",
        "  #print(\"Records with null values: \", count_null)\n",
        "  count_no_null = df.shape[0] - count_null\n",
        "  #print(\"Records with no null values: \", count_no_null)\n",
        "\n",
        "  #Calculating Completeness at T1\n",
        "  completeness = count_no_null / df.shape[0]\n",
        "  # print(\"Completeness:\",completeness)\n",
        "  return completeness\n"
      ],
      "metadata": {
        "id": "ChubdBiVIwQZ"
      },
      "execution_count": null,
      "outputs": []
    },
    {
      "cell_type": "markdown",
      "source": [
        "Evaluating Currentness of each data time frame"
      ],
      "metadata": {
        "id": "RXck0WcXItTY"
      }
    },
    {
      "cell_type": "code",
      "source": [
        "#Calculating Rec_cc_age and currentness at T1\n",
        "#Considered YearsAtCompany column to filter data records\n",
        "def getCurrentness(df):\n",
        "\n",
        "  df = df.sort_values('YearsAtCompany')\n",
        "  # print(df_T1)\n",
        "  lq = df.iloc[round(df.shape[0] * 1/4), df.columns.get_loc('YearsAtCompany')]\n",
        "  uq = df.iloc[round(df.shape[0] * 3/4), df.columns.get_loc('YearsAtCompany')]\n",
        "  # print(lq)\n",
        "  # print(uq)\n",
        "  # Acceptable range is [lq, uq]]\n",
        "  # So the values outside of this range are considered as outliers and we will consider them as outdated records\n",
        "\n",
        "  count_acc_records = 0 # Count of acceptable records \n",
        "  for column in df['YearsAtCompany']:\n",
        "    if column >= lq and column <= uq:\n",
        "      count_acc_records = count_acc_records + 1\n",
        "\n",
        "  # print(\"Total acceptable records: \", count_acc_records)\n",
        "\n",
        "\n",
        "  # Calculating currentness\n",
        "  currentness = count_acc_records / df.shape[0]\n",
        "  # print(\"Currentness: \",currentness)\n",
        "  return currentness"
      ],
      "metadata": {
        "id": "OFp0jTCSJEhS"
      },
      "execution_count": null,
      "outputs": []
    },
    {
      "cell_type": "markdown",
      "source": [
        "Evaluating Availability of each data time frame"
      ],
      "metadata": {
        "id": "7m8zCrFMI2jV"
      }
    },
    {
      "cell_type": "code",
      "source": [
        "#Availability of big data at time frame T1\n",
        "#we assume the total number of requests would be around 258\n",
        "#Total number of successful requests would be 200\n",
        "def getAvailability(df, succ, total):    \n",
        "  N_succ_req = df.shape[0] * succ\n",
        "  N_req = df.shape[0] * total\n",
        "  availability = N_succ_req/N_req\n",
        "  # print(\"Availability:\",availability)\n",
        "  return availability"
      ],
      "metadata": {
        "id": "iVT_HLaR1uq-"
      },
      "execution_count": null,
      "outputs": []
    },
    {
      "cell_type": "markdown",
      "source": [
        "Calculating Big Data Veracity (Mver) "
      ],
      "metadata": {
        "id": "fVN2RFvCI7Bx"
      }
    },
    {
      "cell_type": "code",
      "source": [
        "#Calculation for big data veracity at T1\n",
        "def getMver(df, offset, succ, req):  \n",
        "  W = 1/4\n",
        "  Mver = W * getAccuracy(df) + W * getAvailability(df, succ, req) + W * getCurrentness(df) + W * getCompleteness(df, offset)\n",
        "  return Mver"
      ],
      "metadata": {
        "id": "Za_tbr6P3MyW"
      },
      "execution_count": null,
      "outputs": []
    },
    {
      "cell_type": "code",
      "source": [
        "print(\"Mver at T1: \", getMver(df_T1, 0, 0.60, 0.80))\n",
        "print(\"Mver at T2: \", getMver(pd.concat([df_T1, df_T2]), 401, 0.75, 0.88))\n",
        "print(\"Mver at T3: \", getMver(pd.concat([df_T1, df_T2, df_T3]), 901, 0.79, 0.92))\n",
        "\n",
        "#plotting graph for Big Data Veracity\n",
        "x = np.array([\"T1\", \"T2\", \"T3\"])\n",
        "y = np.array([getMver(df_T1, 0, 0.70, 0.85), getMver(df_T2, 401, 0.75, 0.88), getMver(df_T3, 901, 0.79, 0.92)])\n",
        "\n",
        "plt.title(\"Big Data Veracity\")\n",
        "plt.bar(x, y, color=[\"red\", \"blue\", \"green\"])\n",
        "ax=plt.gca()\n",
        "ax.locator_params('y', nbins=20)\n",
        "# plt.yticks(range(0,1,0.1))\n",
        "plt.xlabel('Time Frames')\n",
        "plt.ylabel('Veracity')\n",
        "\n",
        "plt.show()"
      ],
      "metadata": {
        "colab": {
          "base_uri": "https://localhost:8080/",
          "height": 349
        },
        "id": "Xqvyd3LSMRal",
        "outputId": "971f52ab-3e6b-417e-adca-f9b88a6f2d2c"
      },
      "execution_count": null,
      "outputs": [
        {
          "output_type": "stream",
          "name": "stdout",
          "text": [
            "Mver at T1:  0.8349999995595653\n",
            "Mver at T2:  0.8409880927613889\n",
            "Mver at T3:  0.8444423053912649\n"
          ]
        },
        {
          "output_type": "display_data",
          "data": {
            "text/plain": [
              "<Figure size 432x288 with 1 Axes>"
            ],
            "image/png": "[encoded data removed]"
          },
          "metadata": {
            "needs_background": "light"
          }
        }
      ]
    },
    {
      "cell_type": "markdown",
      "source": [
        "Evaluating Compliance of each data time frame"
      ],
      "metadata": {
        "id": "Epo-ABwZJDoj"
      }
    },
    {
      "cell_type": "code",
      "source": [
        "#Calculating Compliance of big data at time frame T1\n",
        "\n",
        "# print(df_T1.dtypes)\n",
        "def getComplaince(df, offset):\n",
        "  count_compliant = 0\n",
        "  compliant = True\n",
        "  for i, j in df.iterrows():\n",
        "    for col in range(len(j)):\n",
        "        # print(type(df_T1.iat[i,col]))\n",
        "        if(type(df.iat[i-offset,col]) != df[df.columns[col]].dtype):\n",
        "          compliant = False\n",
        "          break\n",
        "    if compliant == False:\n",
        "      count_compliant = count_compliant + 1\n",
        "      compliant = True\n",
        "  #print(\"Total number of compliant records at T1: \", count_compliant_T1)\n",
        "  nds = 1\n",
        "  #Calculating compliance\n",
        "  compliance = count_compliant / (nds * df.shape[0])\n",
        "  # print(\"Compliance:\", compliance)\n",
        "  return compliance"
      ],
      "metadata": {
        "id": "7rRG4x3u4iLo"
      },
      "execution_count": null,
      "outputs": []
    },
    {
      "cell_type": "markdown",
      "source": [
        "Evaluating credibilty of each data time frame"
      ],
      "metadata": {
        "id": "Ztab3j_fJHqX"
      }
    },
    {
      "cell_type": "code",
      "source": [
        "# Calculating Credibility\n",
        "# Here we have given only one dataset. Also it is obtained from reliable source (www.kaggle.com).\n",
        "# So we can consider it as a reliable dataset.\n",
        "def getCredibility():    \n",
        "  Nds_cr = 1\n",
        "  Nds = 1 # We have given only one dataset to use\n",
        "\n",
        "  credibility = Nds_cr / Nds\n",
        "  # print(\"Credibility:\", credibility)\n",
        "  return credibility "
      ],
      "metadata": {
        "id": "3WdIyfo4K_sN"
      },
      "execution_count": null,
      "outputs": []
    },
    {
      "cell_type": "markdown",
      "source": [
        "Calculating Big Data Validity (Mval)"
      ],
      "metadata": {
        "id": "Q23x0UHqJQv3"
      }
    },
    {
      "cell_type": "code",
      "source": [
        "#Calculation for big data validity at T1\n",
        "def getMval(df, offset):\n",
        "  W = 1/2\n",
        "  Mval = W * getComplaince(df, offset) + W * getCredibility()\n",
        "  return Mval"
      ],
      "metadata": {
        "id": "kCI8-C5lMJXV"
      },
      "execution_count": null,
      "outputs": []
    },
    {
      "cell_type": "code",
      "source": [
        "#plotting graph for Big Data Validity\n",
        "print(\"Mval at T1: \", getMval(df_T1, 0))\n",
        "print(\"Mval at T2: \", getMval(pd.concat([df_T1, df_T2]), 401))\n",
        "print(\"Mval at T3: \", getMval(pd.concat([df_T1, df_T2, df_T3]), 901))\n",
        "\n",
        "x = np.array([\"T1\", \"T2\", \"T3\"])\n",
        "y = np.array([getMval(df_T1,0), getMval(pd.concat([df_T1, df_T2]),401), getMval(pd.concat([df_T1, df_T2, df_T3]),901)])\n",
        "\n",
        "plt.title(\"Big Data Validity\")\n",
        "plt.bar(x, y, color=[\"red\", \"blue\", \"green\"])\n",
        "plt.xlabel('Time Frames')\n",
        "plt.ylabel('Validity')\n",
        "\n",
        "plt.show()"
      ],
      "metadata": {
        "colab": {
          "base_uri": "https://localhost:8080/",
          "height": 349
        },
        "id": "4E3Kq6W1NYnl",
        "outputId": "e0287cfc-5abd-4a5b-ebb2-ca229d04b3bf"
      },
      "execution_count": null,
      "outputs": [
        {
          "output_type": "stream",
          "name": "stdout",
          "text": [
            "Mval at T1:  1.0\n",
            "Mval at T2:  1.0\n",
            "Mval at T3:  1.0\n"
          ]
        },
        {
          "output_type": "display_data",
          "data": {
            "text/plain": [
              "<Figure size 432x288 with 1 Axes>"
            ],
            "image/png": "[encoded data removed]"
          },
          "metadata": {
            "needs_background": "light"
          }
        }
      ]
    },
    {
      "cell_type": "markdown",
      "source": [
        "Calculation of Traceability"
      ],
      "metadata": {
        "id": "yeFRy4zvguKg"
      }
    },
    {
      "cell_type": "code",
      "source": [
        "def traceability(Nds, ldst, df):\n",
        "  rec_no_trac = 0\n",
        "  for column in df['Attrition']:\n",
        "    if (column != 'Yes' and column != 1) and (column != 'No' and column != 0):\n",
        "      rec_no_trac = rec_no_trac + 1\n",
        "\n",
        "  rec_trace = df.shape[0] - rec_no_trac\n",
        "\n",
        "  trace = rec_trace/ldst\n",
        "  # print(\"Treceability:\", trace)\n",
        "  return trace\n"
      ],
      "metadata": {
        "id": "vkgHEpXOgoPu"
      },
      "execution_count": null,
      "outputs": []
    },
    {
      "cell_type": "markdown",
      "source": [
        "Calculation of big data Vincularity"
      ],
      "metadata": {
        "id": "TSYpWX3hg2gs"
      }
    },
    {
      "cell_type": "code",
      "source": [
        "def getMvin(nds, ldst, df):\n",
        "  vincularity = traceability(nds, ldst, df) / nds\n",
        "  return vincularity"
      ],
      "metadata": {
        "id": "FGnLV1zigyPG"
      },
      "execution_count": null,
      "outputs": []
    },
    {
      "cell_type": "markdown",
      "source": [
        "Calculating Vincularity for T1, T2 and T3"
      ],
      "metadata": {
        "id": "DdJPQocwcmEQ"
      }
    },
    {
      "cell_type": "code",
      "source": [
        "#plotting graph for Big Data Validity\n",
        "print(\"Vincularity at T1 :\", getMvin(nds_T1, df_T1.shape[0],df_T1))\n",
        "print(\"Vincularity at T2 :\", getMvin(nds_T2, pd.concat([df_T1, df_T2]).shape[0],pd.concat([df_T1, df_T2])))\n",
        "print(\"Vincularity at T3 :\", getMvin(nds_T3, pd.concat([df_T1, df_T2, df_T3]).shape[0],pd.concat([df_T1, df_T2, df_T3])))\n",
        "\n",
        "x = np.array([\"T1\", \"T2\", \"T3\"])\n",
        "y = np.array([getMvin(nds_T1, df_T1.shape[0],df_T1), getMvin(nds_T2, pd.concat([df_T1, df_T2]).shape[0],pd.concat([df_T1, df_T2])), getMvin(nds_T3, pd.concat([df_T1, df_T2, df_T3]).shape[0],pd.concat([df_T1, df_T2, df_T3]))])\n",
        "\n",
        "plt.title(\"Big Data Vincularity\")\n",
        "plt.bar(x, y, color=[\"red\", \"blue\", \"green\"])\n",
        "plt.xlabel('Time Frames')\n",
        "plt.ylabel('Vincularity')\n",
        "\n",
        "plt.show()"
      ],
      "metadata": {
        "id": "KmtPmzBBh9hz",
        "colab": {
          "base_uri": "https://localhost:8080/",
          "height": 349
        },
        "outputId": "24035279-5f6f-4bd1-dcb3-45924872ab29"
      },
      "execution_count": null,
      "outputs": [
        {
          "output_type": "stream",
          "name": "stdout",
          "text": [
            "Vincularity at T1 : 1.0\n",
            "Vincularity at T2 : 1.0\n",
            "Vincularity at T3 : 1.0\n"
          ]
        },
        {
          "output_type": "display_data",
          "data": {
            "text/plain": [
              "<Figure size 432x288 with 1 Axes>"
            ],
            "image/png": "[encoded data removed]"
          },
          "metadata": {
            "needs_background": "light"
          }
        }
      ]
    },
    {
      "cell_type": "markdown",
      "source": [
        "Summary of values of all derieved measures at different time frames"
      ],
      "metadata": {
        "id": "RhtfAKPFMTtn"
      }
    },
    {
      "cell_type": "code",
      "source": [
        "print(\"Accuracy at T1:\", getAccuracy(df_T1))\n",
        "print(\"Accuracy at T2:\", getAccuracy(pd.concat([df_T1, df_T2])))\n",
        "print(\"Accuracy at T3:\", getAccuracy(pd.concat([df_T1, df_T2, df_T3])))\n",
        "print('\\n')\n",
        "\n",
        "print(\"Completeness at T1: \", getCompleteness(df_T1,0))\n",
        "print(\"Completeness at T2: \", getCompleteness(pd.concat([df_T1, df_T2]), 401))\n",
        "print(\"Completeness at T3: \", getCompleteness(pd.concat([df_T1, df_T2, df_T3]), 901))\n",
        "print('\\n')\n",
        "\n",
        "print(\"Currentness at T1:\", getCurrentness(df_T1))\n",
        "print(\"Currentness at T2:\", getCurrentness(df_T2))\n",
        "print(\"Currentness at T3:\", getCurrentness(df_T3))\n",
        "print('\\n')\n",
        "\n",
        "print(\"Availability at T1:\",  getAvailability(df_T1, 0.60, 0.80))\n",
        "print(\"Availability at T2:\",  getAvailability(pd.concat([df_T1, df_T2]), 0.75, 0.88))\n",
        "print(\"Availability at T3:\",  getAvailability(pd.concat([df_T1, df_T2, df_T3]), 0.79, 0.92))\n",
        "print('\\n')\n",
        "\n",
        "print(\"Compliance at T1:\", getComplaince(df_T1, 0))\n",
        "print(\"Compliance at T2:\", getComplaince(pd.concat([df_T1, df_T2]), 401))\n",
        "print(\"Compliance at T3:\", getComplaince(pd.concat([df_T1, df_T2, df_T3]), 901))\n",
        "print('\\n')\n",
        "\n",
        "print(\"Credibility at T1:\", getCredibility())\n",
        "print(\"Credibility at T2:\", getCredibility())\n",
        "print(\"Credibility at T3:\", getCredibility())\n",
        "print('\\n')\n",
        "\n",
        "print(\"Traceability at T1 :\", traceability(nds_T1, df_T1.shape[0],df_T1))\n",
        "print(\"Traceability at T2 :\", traceability(nds_T2, pd.concat([df_T1, df_T2]).shape[0],pd.concat([df_T1, df_T2])))\n",
        "print(\"Traceability at T3 :\", traceability(nds_T3, pd.concat([df_T1, df_T2, df_T3]).shape[0],pd.concat([df_T1, df_T2, df_T3])))\n",
        "print('\\n')"
      ],
      "metadata": {
        "colab": {
          "base_uri": "https://localhost:8080/"
        },
        "id": "7Ol-G8jeMTVK",
        "outputId": "61a93384-8262-440b-99fc-cdcd47762aec"
      },
      "execution_count": null,
      "outputs": [
        {
          "output_type": "stream",
          "name": "stdout",
          "text": [
            "Accuracy at T1: 0.9999999982382612\n",
            "Accuracy at T2: 0.9999999997238851\n",
            "Accuracy at T3: 0.9999999999088572\n",
            "\n",
            "\n",
            "Completeness at T1:  1.0\n",
            "Completeness at T2:  1.0\n",
            "Completeness at T3:  1.0\n",
            "\n",
            "\n",
            "Currentness at T1: 0.59\n",
            "Currentness at T2: 0.6052104208416834\n",
            "Currentness at T3: 0.6239015817223199\n",
            "\n",
            "\n",
            "Availability at T1: 0.75\n",
            "Availability at T2: 0.8522727272727273\n",
            "Availability at T3: 0.8586956521739131\n",
            "\n",
            "\n",
            "Compliance at T1: 1.0\n",
            "Compliance at T2: 1.0\n",
            "Compliance at T3: 1.0\n",
            "\n",
            "\n",
            "Credibility at T1: 1.0\n",
            "Credibility at T2: 1.0\n",
            "Credibility at T3: 1.0\n",
            "\n",
            "\n",
            "Traceability at T1 : 1.0\n",
            "Traceability at T2 : 1.0\n",
            "Traceability at T3 : 1.0\n",
            "\n",
            "\n"
          ]
        }
      ]
    },
    {
      "cell_type": "markdown",
      "source": [
        "Summary of values of 3 V's in different timeframes"
      ],
      "metadata": {
        "id": "mVtXpg7gLfNt"
      }
    },
    {
      "cell_type": "code",
      "source": [
        "print(\"Mver at T1: \", getMver(df_T1, 0, 0.60, 0.80))\n",
        "print(\"Mver at T2: \", getMver(pd.concat([df_T1, df_T2]), 401, 0.75, 0.88))\n",
        "print(\"Mver at T3: \", getMver(pd.concat([df_T1, df_T2, df_T3]), 901, 0.79, 0.92))\n",
        "print('\\n')\n",
        "\n",
        "print(\"Mval at T1: \", getMval(df_T1, 0))\n",
        "print(\"Mval at T2: \", getMval(pd.concat([df_T1, df_T2]), 401))\n",
        "print(\"Mval at T3: \", getMval(pd.concat([df_T1, df_T2, df_T3]), 901))\n",
        "print('\\n')\n",
        "\n",
        "print(\"Vincularity at T1 :\", getMvin(nds_T1, df_T1.shape[0],df_T1))\n",
        "print(\"Vincularity at T2 :\", getMvin(nds_T2, pd.concat([df_T1, df_T2]).shape[0],pd.concat([df_T1, df_T2])))\n",
        "print(\"Vincularity at T3 :\", getMvin(nds_T3, pd.concat([df_T1, df_T2, df_T3]).shape[0],pd.concat([df_T1, df_T2, df_T3])))"
      ],
      "metadata": {
        "colab": {
          "base_uri": "https://localhost:8080/"
        },
        "id": "OnpkJgPSLeDu",
        "outputId": "4705dfdf-8651-44f4-de1c-b0b07eb5885b"
      },
      "execution_count": null,
      "outputs": [
        {
          "output_type": "stream",
          "name": "stdout",
          "text": [
            "Mver at T1:  0.8349999995595653\n",
            "Mver at T2:  0.8409880927613889\n",
            "Mver at T3:  0.8444423053912649\n",
            "\n",
            "\n",
            "Mval at T1:  1.0\n",
            "Mval at T2:  1.0\n",
            "Mval at T3:  1.0\n",
            "\n",
            "\n",
            "Vincularity at T1 : 1.0\n",
            "Vincularity at T2 : 1.0\n",
            "Vincularity at T3 : 1.0\n"
          ]
        }
      ]
    },
    {
      "cell_type": "markdown",
      "source": [
        "Average value of 3 V's at the end of the process"
      ],
      "metadata": {
        "id": "HTli4TiXNnLT"
      }
    },
    {
      "cell_type": "code",
      "source": [
        "print('Average Mver:',(getMver(df_T1, 0, 0.60, 0.80) + getMver(pd.concat([df_T1, df_T2]), 401, 0.75, 0.88) + getMver(pd.concat([df_T1, df_T2, df_T3]), 901, 0.79, 0.92)) / 3)\n",
        "print('Average Mval:', (getMval(df_T1, 0) + getMval(pd.concat([df_T1, df_T2]), 401) + getMval(pd.concat([df_T1, df_T2, df_T3]), 901)) / 3)\n",
        "print('Average Mvin:', (getMvin(nds_T1, df_T1.shape[0],df_T1) + getMvin(nds_T2, pd.concat([df_T1, df_T2]).shape[0],pd.concat([df_T1, df_T2])) + getMvin(nds_T3, pd.concat([df_T1, df_T2, df_T3]).shape[0],pd.concat([df_T1, df_T2, df_T3]))) / 3)"
      ],
      "metadata": {
        "colab": {
          "base_uri": "https://localhost:8080/"
        },
        "id": "M_T_Ci2mNm6H",
        "outputId": "d1aea8e9-e475-42ec-ee72-dfe4ee97abbc"
      },
      "execution_count": null,
      "outputs": [
        {
          "output_type": "stream",
          "name": "stdout",
          "text": [
            "Average Mver: 0.840143465904073\n",
            "Average Mval: 1.0\n",
            "Average Mvin: 1.0\n"
          ]
        }
      ]
    },
    {
      "cell_type": "markdown",
      "source": [
        "\n",
        "**Part 2: Data cleaning, Data pre-processing and Data processing and then measuring 3 V's on the dataset at three different time frames**"
      ],
      "metadata": {
        "id": "W6cqFTQXhVTu"
      }
    },
    {
      "cell_type": "code",
      "source": [
        "#Data Extraction\n",
        "path = \"/content/drive/My Drive/SOEN6611_ProjectDataset/IBM.csv\"\n",
        "df_part2 = read_csv(path)\n",
        "\n",
        "#Dividing dataset into three dataframes t1, t2 and t3 for quality analysis. \n",
        "df_part2_T1_original = df_part2.iloc[:400,:]\n",
        "df_part2_T2_original = df_part2.iloc[401:900,:]\n",
        "df_part2_T3_original = df_part2.iloc[901:,:]\n",
        "\n",
        "df_part2_T1 = df_part2_T1_original.copy()\n",
        "df_part2_T2 = df_part2_T2_original.copy()\n",
        "df_part2_T3 = df_part2_T3_original.copy()\n",
        "\n",
        "\n",
        "df_part2.head()\n",
        "\n",
        "x = np.array([\"T1\", \"T2\", \"T3\"])\n",
        "y = np.array([len(df_part2_T1), len(df_part2_T2) + len(df_part2_T1), len(df_part2_T3)+len(df_part2_T2) + len(df_part2_T1)])\n",
        "\n",
        "plt.title(\"Datasets\")\n",
        "plt.bar(x, y, color=[\"red\", \"blue\", \"green\"])\n",
        "plt.xlabel('Time Frames')\n",
        "plt.ylabel('Length of the data')\n",
        "\n",
        "plt.show()"
      ],
      "metadata": {
        "colab": {
          "base_uri": "https://localhost:8080/",
          "height": 295
        },
        "id": "Wsh9BYRKhT6d",
        "outputId": "3b2cf471-0120-4ddf-fbdc-9ec13ba51209"
      },
      "execution_count": null,
      "outputs": [
        {
          "output_type": "display_data",
          "data": {
            "text/plain": [
              "<Figure size 432x288 with 1 Axes>"
            ],
            "image/png": "[encoded data removed]"
          },
          "metadata": {
            "needs_background": "light"
          }
        }
      ]
    },
    {
      "cell_type": "markdown",
      "source": [
        " **Data Pipeline (Data Extraction, Data preprocessing and Data Processing) process for Timeframe T1**"
      ],
      "metadata": {
        "id": "_knKiWQdszNL"
      }
    },
    {
      "cell_type": "markdown",
      "source": [
        "Data Extraction"
      ],
      "metadata": {
        "id": "ro2_0C_oxCCX"
      }
    },
    {
      "cell_type": "code",
      "source": [
        "def dataExtract(df, nds, succ, req, offset):\n",
        "  print(\"Size of Data frame: \",df.shape)\n",
        "\n",
        "\n",
        "  #Calculating Veracity, Validity and Vincularity\n",
        "  Mver = getMver(df, offset, succ, req)\n",
        "  Mval = getMval(df, offset)\n",
        "  Mvin = getMvin(nds, df.shape[0],df)\n",
        "  print(df.shape)\n",
        "  print(\"Mver: \", Mver)\n",
        "  print(\"Mval: \", Mval)\n",
        "  print(\"Mvin :\", Mvin)\n",
        "  return [Mver, Mval, Mvin]"
      ],
      "metadata": {
        "id": "TXo3Ijq1tWOR"
      },
      "execution_count": null,
      "outputs": []
    },
    {
      "cell_type": "code",
      "source": [
        "values_dataExtraction_T1 = dataExtract(df_part2_T1, nds_T1, 0.60, 0.80, 0)\n",
        "\n",
        "Mver_dataExtraction_T1 = values_dataExtraction_T1[0]\n",
        "Mval_dataExtraction_T1 = values_dataExtraction_T1[1]\n",
        "Mvin_dataExtraction_T1 = values_dataExtraction_T1[2]"
      ],
      "metadata": {
        "colab": {
          "base_uri": "https://localhost:8080/"
        },
        "id": "ft4YVRNIz4Lo",
        "outputId": "68b7b6eb-bb55-4c50-fb45-26f20542673b"
      },
      "execution_count": null,
      "outputs": [
        {
          "output_type": "stream",
          "name": "stdout",
          "text": [
            "Size of Data frame:  (400, 35)\n",
            "(400, 35)\n",
            "Mver:  0.8349999995595653\n",
            "Mval:  1.0\n",
            "Mvin : 1.0\n"
          ]
        }
      ]
    },
    {
      "cell_type": "markdown",
      "source": [
        "Data Cleaning (Data Preprocessing)"
      ],
      "metadata": {
        "id": "ZMz5LY5pxGMC"
      }
    },
    {
      "cell_type": "code",
      "source": [
        "#Data Cleaning part at T1\n",
        "\n",
        "def dataCleaning(df, nds, succ, req, offset):\n",
        "  #Removing Empty cells by removing rows having null values/empty cells.\n",
        "  df.dropna(inplace = True)\n",
        "\n",
        "  #Removing duplicate records from the dataframe\n",
        "  df.drop_duplicates(inplace = True)\n",
        "\n",
        "  print(\"Size after cleaning\")\n",
        "  return dataExtract(df, nds, succ, req, offset)\n",
        "\n",
        "values_dataCleaning_T1 = dataCleaning(df_part2_T1, nds_T1, 0.60, 0.80, 0)\n",
        "\n",
        "Mver_dataCleaning_T1 = values_dataCleaning_T1[0]\n",
        "Mval_dataCleaning_T1 = values_dataCleaning_T1[1]\n",
        "Mvin_dataCleaning_T1 = values_dataCleaning_T1[2]\n",
        "\n",
        "#print(Mver_dataExtraction_T1, \" \", Mval_dataExtraction_T2, \" \", Mvin_dataExtraction_T3)\n"
      ],
      "metadata": {
        "colab": {
          "base_uri": "https://localhost:8080/"
        },
        "id": "7KEAoX0ZkdUu",
        "outputId": "5b69ed78-72dc-4f74-f84f-3afdc07b6619"
      },
      "execution_count": null,
      "outputs": [
        {
          "output_type": "stream",
          "name": "stdout",
          "text": [
            "Size after cleaning\n",
            "Size of Data frame:  (400, 35)\n",
            "(400, 35)\n",
            "Mver:  0.8349999995595653\n",
            "Mval:  1.0\n",
            "Mvin : 1.0\n"
          ]
        }
      ]
    },
    {
      "cell_type": "markdown",
      "source": [
        "Data Processing"
      ],
      "metadata": {
        "id": "INYLq4csxMlr"
      }
    },
    {
      "cell_type": "code",
      "source": [
        "# Converting categorical values into numeric values\n",
        "def dataProcessing(df, nds, succ, req, offset):\n",
        "  # Yes -> 1\n",
        "  # No -> 0\n",
        "  df['Attrition'] = df['Attrition'].factorize(['No','Yes'])[0]\n",
        "  df.head()\n",
        "\n",
        "\n",
        "\n",
        "  df['BusinessTravel'].value_counts()\n",
        "\n",
        "  # Travel_Rarely -> 0\n",
        "  # Travel_Frequently -> 1\n",
        "  # Non_Travel -> 2\n",
        "  df['BusinessTravel'] = df['BusinessTravel'].factorize(['Travel_Rarely','Travel_Frequently, Non_Travel'])[0]\n",
        "  df.head()\n",
        "\n",
        "\n",
        "\n",
        "  df['Department'].value_counts()\n",
        "\n",
        "  # Research & Development    0\n",
        "  # Sales                     1\n",
        "  # Human Resources           2\n",
        "  df['Department'] = df['Department'].factorize(['Research & Development','Sales', 'Human Resources'])[0]\n",
        "  df.head()\n",
        "\n",
        "\n",
        "\n",
        "  df['EducationField'].value_counts()\n",
        "\n",
        "  # Life Sciences       0\n",
        "  # Medical             1\n",
        "  # Marketing           2\n",
        "  # Technical Degree    3\n",
        "  # Other               4\n",
        "  # Human Resources     5\n",
        "\n",
        "  df['EducationField'] = df['EducationField'].factorize(['Life Sciences','Medical', 'Marketing', 'Technical Degree', 'Other', 'Human Resources'])[0]\n",
        "  df.head()\n",
        "\n",
        "\n",
        "\n",
        "\n",
        "  df['Gender'].value_counts()\n",
        "  # Male      882\n",
        "  # Female    588\n",
        "\n",
        "  df['Gender'] = df['Gender'].factorize(['Male', 'Female'])[0]\n",
        "  df.head()\n",
        "\n",
        "\n",
        "\n",
        "\n",
        "  df['JobRole'].value_counts()\n",
        "\n",
        "  # Sales Executive              0\n",
        "  # Research Scientist           1\n",
        "  # Laboratory Technician        2\n",
        "  # Manufacturing Director       3\n",
        "  # Healthcare Representative    4\n",
        "  # Manager                      5\n",
        "  # Sales Representative         6\n",
        "  # Research Director            7\n",
        "  # Human Resources              8\n",
        "  df['JobRole'] = df['JobRole'].factorize(['Sales Executive', 'Research Scientist', 'Laboratory Technician', 'Manufacturing Director', 'Healthcare Representative', 'Manager', 'Sales Representative', 'Research Director', 'Human Resources'])[0]\n",
        "  df.head()\n",
        "\n",
        "\n",
        "\n",
        "\n",
        "  df['MaritalStatus'].value_counts()\n",
        "  # Married     0\n",
        "  # Single      1\n",
        "  # Divorced    2\n",
        "  df['JobRole'] = df['JobRole'].factorize(['Married', 'Single', 'Divorced'])[0]\n",
        "  df.head()\n",
        "\n",
        "\n",
        "\n",
        "\n",
        "\n",
        "  df['Over18'].value_counts()\n",
        "  # Y     0\n",
        "  # N     1\n",
        "  df['Over18'] = df['Over18'].factorize(['Y', 'N'])[0]\n",
        "  df.head()\n",
        "\n",
        "\n",
        "\n",
        "\n",
        "\n",
        "  df['OverTime'].value_counts()\n",
        "  # Yes     0\n",
        "  # No      1\n",
        "  df['OverTime'] = df['OverTime'].factorize(['Yes', 'No'])[0]\n",
        "  df.head()\n",
        "\n",
        "\n",
        "  return dataExtract(df, nds, succ, req, offset)\n",
        "\n",
        "values_dataProcessing_T1 = dataProcessing(df_part2_T1, nds_T1, 0.60, 0.80, 0)\n",
        "\n",
        "Mver_dataProcessing_T1 = values_dataProcessing_T1[0]\n",
        "Mval_dataProcessing_T1 = values_dataProcessing_T1[1]\n",
        "Mvin_dataProcessing_T1 = values_dataProcessing_T1[2]\n",
        "\n",
        "#print(Mver_dataProcessing_T1, \" \", Mval_dataProcessing_T1, \" \", Mvin_dataProcessing_T1)"
      ],
      "metadata": {
        "colab": {
          "base_uri": "https://localhost:8080/"
        },
        "id": "e5UHjomY6pax",
        "outputId": "68af9a0c-33db-4173-a7a9-c20c9d75de3a"
      },
      "execution_count": null,
      "outputs": [
        {
          "output_type": "stream",
          "name": "stdout",
          "text": [
            "Size of Data frame:  (400, 35)\n",
            "(400, 35)\n",
            "Mver:  0.8349999995595653\n",
            "Mval:  1.0\n",
            "Mvin : 1.0\n"
          ]
        }
      ]
    },
    {
      "cell_type": "code",
      "source": [
        "df_part2_T1.head()"
      ],
      "metadata": {
        "colab": {
          "base_uri": "https://localhost:8080/",
          "height": 300
        },
        "id": "q-7oLAyj_3P7",
        "outputId": "269b7878-6840-42b8-bd9a-8a64c441287e"
      },
      "execution_count": null,
      "outputs": [
        {
          "output_type": "execute_result",
          "data": {
            "text/plain": [
              "   Age  Attrition  BusinessTravel  DailyRate  Department  DistanceFromHome  \\\n",
              "0   41          1               2       1102           2                 1   \n",
              "1   49          0               1        279           1                 8   \n",
              "2   37          1               2       1373           1                 2   \n",
              "3   33          0               1       1392           1                 3   \n",
              "4   27          0               2        591           1                 2   \n",
              "\n",
              "   Education  EducationField  EmployeeCount  EmployeeNumber  ...  \\\n",
              "0          2               1              1               1  ...   \n",
              "1          1               1              1               2  ...   \n",
              "2          2               4              1               4  ...   \n",
              "3          4               1              1               5  ...   \n",
              "4          1               3              1               7  ...   \n",
              "\n",
              "   RelationshipSatisfaction  StandardHours  StockOptionLevel  \\\n",
              "0                         1             80                 0   \n",
              "1                         4             80                 1   \n",
              "2                         2             80                 0   \n",
              "3                         3             80                 0   \n",
              "4                         4             80                 1   \n",
              "\n",
              "   TotalWorkingYears  TrainingTimesLastYear  WorkLifeBalance  YearsAtCompany  \\\n",
              "0                  8                      0                1               6   \n",
              "1                 10                      3                3              10   \n",
              "2                  7                      3                3               0   \n",
              "3                  8                      3                3               8   \n",
              "4                  6                      3                3               2   \n",
              "\n",
              "  YearsInCurrentRole  YearsSinceLastPromotion  YearsWithCurrManager  \n",
              "0                  4                        0                     5  \n",
              "1                  7                        1                     7  \n",
              "2                  0                        0                     0  \n",
              "3                  7                        3                     0  \n",
              "4                  2                        2                     2  \n",
              "\n",
              "[5 rows x 35 columns]"
            ],
            "text/html": [
              "\n",
              "  <div id=\"df-3a62b76a-e917-4ff9-b513-2644e507b9a4\">\n",
              "    <div class=\"colab-df-container\">\n",
              "      <div>\n",
              "<style scoped>\n",
              "    .dataframe tbody tr th:only-of-type {\n",
              "        vertical-align: middle;\n",
              "    }\n",
              "\n",
              "    .dataframe tbody tr th {\n",
              "        vertical-align: top;\n",
              "    }\n",
              "\n",
              "    .dataframe thead th {\n",
              "        text-align: right;\n",
              "    }\n",
              "</style>\n",
              "<table border=\"1\" class=\"dataframe\">\n",
              "  <thead>\n",
              "    <tr style=\"text-align: right;\">\n",
              "      <th></th>\n",
              "      <th>Age</th>\n",
              "      <th>Attrition</th>\n",
              "      <th>BusinessTravel</th>\n",
              "      <th>DailyRate</th>\n",
              "      <th>Department</th>\n",
              "      <th>DistanceFromHome</th>\n",
              "      <th>Education</th>\n",
              "      <th>EducationField</th>\n",
              "      <th>EmployeeCount</th>\n",
              "      <th>EmployeeNumber</th>\n",
              "      <th>...</th>\n",
              "      <th>RelationshipSatisfaction</th>\n",
              "      <th>StandardHours</th>\n",
              "      <th>StockOptionLevel</th>\n",
              "      <th>TotalWorkingYears</th>\n",
              "      <th>TrainingTimesLastYear</th>\n",
              "      <th>WorkLifeBalance</th>\n",
              "      <th>YearsAtCompany</th>\n",
              "      <th>YearsInCurrentRole</th>\n",
              "      <th>YearsSinceLastPromotion</th>\n",
              "      <th>YearsWithCurrManager</th>\n",
              "    </tr>\n",
              "  </thead>\n",
              "  <tbody>\n",
              "    <tr>\n",
              "      <th>0</th>\n",
              "      <td>41</td>\n",
              "      <td>1</td>\n",
              "      <td>2</td>\n",
              "      <td>1102</td>\n",
              "      <td>2</td>\n",
              "      <td>1</td>\n",
              "      <td>2</td>\n",
              "      <td>1</td>\n",
              "      <td>1</td>\n",
              "      <td>1</td>\n",
              "      <td>...</td>\n",
              "      <td>1</td>\n",
              "      <td>80</td>\n",
              "      <td>0</td>\n",
              "      <td>8</td>\n",
              "      <td>0</td>\n",
              "      <td>1</td>\n",
              "      <td>6</td>\n",
              "      <td>4</td>\n",
              "      <td>0</td>\n",
              "      <td>5</td>\n",
              "    </tr>\n",
              "    <tr>\n",
              "      <th>1</th>\n",
              "      <td>49</td>\n",
              "      <td>0</td>\n",
              "      <td>1</td>\n",
              "      <td>279</td>\n",
              "      <td>1</td>\n",
              "      <td>8</td>\n",
              "      <td>1</td>\n",
              "      <td>1</td>\n",
              "      <td>1</td>\n",
              "      <td>2</td>\n",
              "      <td>...</td>\n",
              "      <td>4</td>\n",
              "      <td>80</td>\n",
              "      <td>1</td>\n",
              "      <td>10</td>\n",
              "      <td>3</td>\n",
              "      <td>3</td>\n",
              "      <td>10</td>\n",
              "      <td>7</td>\n",
              "      <td>1</td>\n",
              "      <td>7</td>\n",
              "    </tr>\n",
              "    <tr>\n",
              "      <th>2</th>\n",
              "      <td>37</td>\n",
              "      <td>1</td>\n",
              "      <td>2</td>\n",
              "      <td>1373</td>\n",
              "      <td>1</td>\n",
              "      <td>2</td>\n",
              "      <td>2</td>\n",
              "      <td>4</td>\n",
              "      <td>1</td>\n",
              "      <td>4</td>\n",
              "      <td>...</td>\n",
              "      <td>2</td>\n",
              "      <td>80</td>\n",
              "      <td>0</td>\n",
              "      <td>7</td>\n",
              "      <td>3</td>\n",
              "      <td>3</td>\n",
              "      <td>0</td>\n",
              "      <td>0</td>\n",
              "      <td>0</td>\n",
              "      <td>0</td>\n",
              "    </tr>\n",
              "    <tr>\n",
              "      <th>3</th>\n",
              "      <td>33</td>\n",
              "      <td>0</td>\n",
              "      <td>1</td>\n",
              "      <td>1392</td>\n",
              "      <td>1</td>\n",
              "      <td>3</td>\n",
              "      <td>4</td>\n",
              "      <td>1</td>\n",
              "      <td>1</td>\n",
              "      <td>5</td>\n",
              "      <td>...</td>\n",
              "      <td>3</td>\n",
              "      <td>80</td>\n",
              "      <td>0</td>\n",
              "      <td>8</td>\n",
              "      <td>3</td>\n",
              "      <td>3</td>\n",
              "      <td>8</td>\n",
              "      <td>7</td>\n",
              "      <td>3</td>\n",
              "      <td>0</td>\n",
              "    </tr>\n",
              "    <tr>\n",
              "      <th>4</th>\n",
              "      <td>27</td>\n",
              "      <td>0</td>\n",
              "      <td>2</td>\n",
              "      <td>591</td>\n",
              "      <td>1</td>\n",
              "      <td>2</td>\n",
              "      <td>1</td>\n",
              "      <td>3</td>\n",
              "      <td>1</td>\n",
              "      <td>7</td>\n",
              "      <td>...</td>\n",
              "      <td>4</td>\n",
              "      <td>80</td>\n",
              "      <td>1</td>\n",
              "      <td>6</td>\n",
              "      <td>3</td>\n",
              "      <td>3</td>\n",
              "      <td>2</td>\n",
              "      <td>2</td>\n",
              "      <td>2</td>\n",
              "      <td>2</td>\n",
              "    </tr>\n",
              "  </tbody>\n",
              "</table>\n",
              "<p>5 rows × 35 columns</p>\n",
              "</div>\n",
              "      <button class=\"colab-df-convert\" onclick=\"convertToInteractive('df-3a62b76a-e917-4ff9-b513-2644e507b9a4')\"\n",
              "              title=\"Convert this dataframe to an interactive table.\"\n",
              "              style=\"display:none;\">\n",
              "        \n",
              "  <svg xmlns=\"http://www.w3.org/2000/svg\" height=\"24px\"viewBox=\"0 0 24 24\"\n",
              "       width=\"24px\">\n",
              "    <path d=\"M0 0h24v24H0V0z\" fill=\"none\"/>\n",
              "    <path d=\"M18.56 5.44l.94 2.06.94-2.06 2.06-.94-2.06-.94-.94-2.06-.94 2.06-2.06.94zm-11 1L8.5 8.5l.94-2.06 2.06-.94-2.06-.94L8.5 2.5l-.94 2.06-2.06.94zm10 10l.94 2.06.94-2.06 2.06-.94-2.06-.94-.94-2.06-.94 2.06-2.06.94z\"/><path d=\"M17.41 7.96l-1.37-1.37c-.4-.4-.92-.59-1.43-.59-.52 0-1.04.2-1.43.59L10.3 9.45l-7.72 7.72c-.78.78-.78 2.05 0 2.83L4 21.41c.39.39.9.59 1.41.59.51 0 1.02-.2 1.41-.59l7.78-7.78 2.81-2.81c.8-.78.8-2.07 0-2.86zM5.41 20L4 18.59l7.72-7.72 1.47 1.35L5.41 20z\"/>\n",
              "  </svg>\n",
              "      </button>\n",
              "      \n",
              "  <style>\n",
              "    .colab-df-container {\n",
              "      display:flex;\n",
              "      flex-wrap:wrap;\n",
              "      gap: 12px;\n",
              "    }\n",
              "\n",
              "    .colab-df-convert {\n",
              "      background-color: #E8F0FE;\n",
              "      border: none;\n",
              "      border-radius: 50%;\n",
              "      cursor: pointer;\n",
              "      display: none;\n",
              "      fill: #1967D2;\n",
              "      height: 32px;\n",
              "      padding: 0 0 0 0;\n",
              "      width: 32px;\n",
              "    }\n",
              "\n",
              "    .colab-df-convert:hover {\n",
              "      background-color: #E2EBFA;\n",
              "      box-shadow: 0px 1px 2px rgba(60, 64, 67, 0.3), 0px 1px 3px 1px rgba(60, 64, 67, 0.15);\n",
              "      fill: #174EA6;\n",
              "    }\n",
              "\n",
              "    [theme=dark] .colab-df-convert {\n",
              "      background-color: #3B4455;\n",
              "      fill: #D2E3FC;\n",
              "    }\n",
              "\n",
              "    [theme=dark] .colab-df-convert:hover {\n",
              "      background-color: #434B5C;\n",
              "      box-shadow: 0px 1px 3px 1px rgba(0, 0, 0, 0.15);\n",
              "      filter: drop-shadow(0px 1px 2px rgba(0, 0, 0, 0.3));\n",
              "      fill: #FFFFFF;\n",
              "    }\n",
              "  </style>\n",
              "\n",
              "      <script>\n",
              "        const buttonEl =\n",
              "          document.querySelector('#df-3a62b76a-e917-4ff9-b513-2644e507b9a4 button.colab-df-convert');\n",
              "        buttonEl.style.display =\n",
              "          google.colab.kernel.accessAllowed ? 'block' : 'none';\n",
              "\n",
              "        async function convertToInteractive(key) {\n",
              "          const element = document.querySelector('#df-3a62b76a-e917-4ff9-b513-2644e507b9a4');\n",
              "          const dataTable =\n",
              "            await google.colab.kernel.invokeFunction('convertToInteractive',\n",
              "                                                     [key], {});\n",
              "          if (!dataTable) return;\n",
              "\n",
              "          const docLinkHtml = 'Like what you see? Visit the ' +\n",
              "            '<a target=\"_blank\" href=https://colab.research.google.com/notebooks/data_table.ipynb>data table notebook</a>'\n",
              "            + ' to learn more about interactive tables.';\n",
              "          element.innerHTML = '';\n",
              "          dataTable['output_type'] = 'display_data';\n",
              "          await google.colab.output.renderOutput(dataTable, element);\n",
              "          const docLink = document.createElement('div');\n",
              "          docLink.innerHTML = docLinkHtml;\n",
              "          element.appendChild(docLink);\n",
              "        }\n",
              "      </script>\n",
              "    </div>\n",
              "  </div>\n",
              "  "
            ]
          },
          "metadata": {},
          "execution_count": 586
        }
      ]
    },
    {
      "cell_type": "markdown",
      "source": [
        "**Data Pipeline (Data Extraction, Data preprocessing and Data Processing) process for Timeframe T2**\n",
        "\n"
      ],
      "metadata": {
        "id": "ACnsuJmODj9x"
      }
    },
    {
      "cell_type": "markdown",
      "source": [
        "Data Extraction"
      ],
      "metadata": {
        "id": "GighY9HLI2A6"
      }
    },
    {
      "cell_type": "code",
      "source": [
        "#Data Extraction\n",
        "df_part2_T11 = df_part2_T1_original.copy()\n",
        "df_part2_T21 = df_part2_T2_original.copy()\n",
        "values_dataExtraction_T2 = dataExtract(pd.concat([df_part2_T11, df_part2_T21]), nds_T2, 0.75, 0.88, 401)\n",
        "\n",
        "Mver_dataExtraction_T2 = values_dataExtraction_T2[0]\n",
        "Mval_dataExtraction_T2 = values_dataExtraction_T2[1]\n",
        "Mvin_dataExtraction_T2 = values_dataExtraction_T2[2]\n",
        "\n",
        "#print(Mver_dataExtraction_T2)"
      ],
      "metadata": {
        "colab": {
          "base_uri": "https://localhost:8080/"
        },
        "id": "pfTNejvjDjWM",
        "outputId": "c4143dc0-1b5e-42be-c2f4-6cf6ef768e58"
      },
      "execution_count": null,
      "outputs": [
        {
          "output_type": "stream",
          "name": "stdout",
          "text": [
            "Size of Data frame:  (899, 35)\n",
            "(899, 35)\n",
            "Mver:  0.8409880927613889\n",
            "Mval:  1.0\n",
            "Mvin : 1.0\n"
          ]
        }
      ]
    },
    {
      "cell_type": "markdown",
      "source": [
        "Data Cleaning (Data Preprocessing)"
      ],
      "metadata": {
        "id": "ZmtM-I4iI5vn"
      }
    },
    {
      "cell_type": "code",
      "source": [
        "values_dataCleaning_T2 = dataCleaning(pd.concat([df_part2_T11, df_part2_T21]), nds_T2, 0.75, 0.88, 401)\n",
        "\n",
        "Mver_dataCleaning_T2 = values_dataCleaning_T2[0]\n",
        "Mval_dataCleaning_T2 = values_dataCleaning_T2[1]\n",
        "Mvin_dataCleaning_T2 = values_dataCleaning_T2[2]\n",
        "\n",
        "#print(Mver_dataCleaning_T2)"
      ],
      "metadata": {
        "colab": {
          "base_uri": "https://localhost:8080/"
        },
        "id": "VJsIuSfhI4_M",
        "outputId": "f37824c7-db79-46d8-9412-1ea0736d5832"
      },
      "execution_count": null,
      "outputs": [
        {
          "output_type": "stream",
          "name": "stdout",
          "text": [
            "Size after cleaning\n",
            "Size of Data frame:  (899, 35)\n",
            "(899, 35)\n",
            "Mver:  0.8409880927613889\n",
            "Mval:  1.0\n",
            "Mvin : 1.0\n"
          ]
        }
      ]
    },
    {
      "cell_type": "markdown",
      "source": [
        "Data Processing"
      ],
      "metadata": {
        "id": "UjlsBwlrJBnV"
      }
    },
    {
      "cell_type": "code",
      "source": [
        "values_dataProcessing_T2 = dataProcessing(pd.concat([df_part2_T11, df_part2_T21]), nds_T2, 0.75, 0.88, 401)\n",
        "\n",
        "Mver_dataProcessing_T2 = values_dataProcessing_T2[0]\n",
        "Mval_dataProcessing_T2 = values_dataProcessing_T2[1]\n",
        "Mvin_dataProcessing_T2 = values_dataProcessing_T2[2]\n",
        "\n",
        "#print(Mver_dataProcessing_T2)"
      ],
      "metadata": {
        "colab": {
          "base_uri": "https://localhost:8080/"
        },
        "id": "NhGmeq08JEfL",
        "outputId": "27bda56e-71c6-4a14-d0ae-d5ffc4a1ef8d"
      },
      "execution_count": null,
      "outputs": [
        {
          "output_type": "stream",
          "name": "stdout",
          "text": [
            "Size of Data frame:  (899, 35)\n",
            "(899, 35)\n",
            "Mver:  0.8409880927613889\n",
            "Mval:  1.0\n",
            "Mvin : 1.0\n"
          ]
        }
      ]
    },
    {
      "cell_type": "markdown",
      "source": [
        "**Data Pipeline (Data Extraction, Data preprocessing and Data Processing) process for Timeframe T3**\n"
      ],
      "metadata": {
        "id": "NMTkzAgRS-VM"
      }
    },
    {
      "cell_type": "code",
      "source": [
        "#Data Extraction\n",
        "df_part2_T1 = df_part2_T1_original.copy()\n",
        "df_part2_T2 = df_part2_T2_original.copy()\n",
        "df_part2_T3 = df_part2_T3_original.copy()\n",
        "values_dataExtraction_T3 = dataExtract(pd.concat([df_part2_T1, df_part2_T2, df_part2_T3]), nds_T3, 0.79, 0.92, 901)\n",
        "\n",
        "Mver_dataExtraction_T3 = values_dataExtraction_T3[0]\n",
        "Mval_dataExtraction_T3 = values_dataExtraction_T3[1]\n",
        "Mvin_dataExtraction_T3 = values_dataExtraction_T3[2]\n",
        "\n",
        "#print(Mver_dataExtraction_T3)"
      ],
      "metadata": {
        "colab": {
          "base_uri": "https://localhost:8080/"
        },
        "id": "kNNBgrEWS-C9",
        "outputId": "d902110f-fc83-435b-f50c-b393d7fb34c3"
      },
      "execution_count": null,
      "outputs": [
        {
          "output_type": "stream",
          "name": "stdout",
          "text": [
            "Size of Data frame:  (1468, 35)\n",
            "(1468, 35)\n",
            "Mver:  0.8444423053912649\n",
            "Mval:  1.0\n",
            "Mvin : 1.0\n"
          ]
        }
      ]
    },
    {
      "cell_type": "code",
      "source": [
        "values_dataCleaning_T3 = dataCleaning(pd.concat([df_part2_T1, df_part2_T2, df_part2_T3]), nds_T3, 0.79, 0.92, 901)\n",
        "\n",
        "Mver_dataCleaning_T3 = values_dataExtraction_T3[0]\n",
        "Mval_dataCleaning_T3 = values_dataExtraction_T3[1]\n",
        "Mvin_dataCleaning_T3 = values_dataExtraction_T3[2]\n",
        "\n",
        "#print(Mver_dataCleaning_T3)"
      ],
      "metadata": {
        "colab": {
          "base_uri": "https://localhost:8080/"
        },
        "id": "4ld2Y7ujTLIr",
        "outputId": "d64980ea-5f27-4c6d-f591-36254389b90f"
      },
      "execution_count": null,
      "outputs": [
        {
          "output_type": "stream",
          "name": "stdout",
          "text": [
            "Size after cleaning\n",
            "Size of Data frame:  (1468, 35)\n",
            "(1468, 35)\n",
            "Mver:  0.8444423053912649\n",
            "Mval:  1.0\n",
            "Mvin : 1.0\n"
          ]
        }
      ]
    },
    {
      "cell_type": "code",
      "source": [
        "values_dataProcessing_T3 = dataProcessing(pd.concat([df_part2_T1, df_part2_T2, df_part2_T3]), nds_T3, 0.79, 0.92, 901)\n",
        "\n",
        "Mver_dataProcessing_T3 = values_dataProcessing_T3[0]\n",
        "Mval_dataProcessing_T3 = values_dataProcessing_T3[1]\n",
        "Mvin_dataProcessing_T3 = values_dataProcessing_T3[2]\n",
        "\n",
        "#print(Mver_dataProcessing_T3)"
      ],
      "metadata": {
        "colab": {
          "base_uri": "https://localhost:8080/"
        },
        "id": "7SUU9qzITWek",
        "outputId": "8fda9c80-765e-4320-c04a-dd3dd219281b"
      },
      "execution_count": null,
      "outputs": [
        {
          "output_type": "stream",
          "name": "stdout",
          "text": [
            "Size of Data frame:  (1468, 35)\n",
            "(1468, 35)\n",
            "Mver:  0.8444423053912649\n",
            "Mval:  1.0\n",
            "Mvin : 1.0\n"
          ]
        }
      ]
    },
    {
      "cell_type": "code",
      "source": [
        "import numpy as np\n",
        "import matplotlib.pyplot as plt\n",
        "    \n",
        "n=3\n",
        "r = np.arange(n)\n",
        "width = .15\n",
        "  \n",
        "  \n",
        "plt.bar(r, [Mver_dataExtraction_T1, Mver_dataExtraction_T2, Mver_dataExtraction_T3], color = 'b',\n",
        "        width = width, edgecolor = 'black',\n",
        "        label='Data Extraction')\n",
        "\n",
        "plt.bar(r + width + 0.05, [Mver_dataCleaning_T1, Mver_dataCleaning_T2, Mver_dataCleaning_T3], color = 'g',\n",
        "        width = width, edgecolor = 'black',\n",
        "        label='Data Cleaning')\n",
        "\n",
        "plt.bar(r + width + width + 0.1, [Mver_dataProcessing_T1, Mver_dataProcessing_T2, Mver_dataProcessing_T3], color = 'r',\n",
        "        width = width, edgecolor = 'black',\n",
        "        label='Data Processing')\n",
        "\n",
        "plt.xlabel(\"Time Frames\")\n",
        "plt.ylabel(\"Big Data Veracity\")\n",
        "plt.title(\"Big Data Veracity in big data pipeline at each time frame\")\n",
        "  \n",
        "# plt.grid(linestyle='--')\n",
        "plt.xticks(r + width/2,['T1','T2','T3'])\n",
        "plt.legend()\n",
        "  \n",
        "plt.show()"
      ],
      "metadata": {
        "colab": {
          "base_uri": "https://localhost:8080/",
          "height": 295
        },
        "id": "amBc3njtUvbe",
        "outputId": "41397767-0808-4646-bb98-3ff75ddd2460"
      },
      "execution_count": null,
      "outputs": [
        {
          "output_type": "display_data",
          "data": {
            "text/plain": [
              "<Figure size 432x288 with 1 Axes>"
            ],
            "image/png": "[encoded data removed]"
          },
          "metadata": {
            "needs_background": "light"
          }
        }
      ]
    },
    {
      "cell_type": "code",
      "source": [
        "import numpy as np\n",
        "import matplotlib.pyplot as plt\n",
        "    \n",
        "n=3\n",
        "r = np.arange(n)\n",
        "width = .15\n",
        "  \n",
        "  \n",
        "plt.bar(r, [Mval_dataExtraction_T1, Mval_dataExtraction_T2, Mval_dataExtraction_T3], color = 'b',\n",
        "        width = width, edgecolor = 'black',\n",
        "        label='Data Extraction')\n",
        "\n",
        "plt.bar(r + width + 0.05, [Mval_dataCleaning_T1, Mval_dataCleaning_T2, Mval_dataCleaning_T3], color = 'g',\n",
        "        width = width, edgecolor = 'black',\n",
        "        label='Data Cleaning')\n",
        "\n",
        "plt.bar(r + width + width + 0.1, [Mval_dataProcessing_T1, Mval_dataProcessing_T2, Mval_dataProcessing_T3], color = 'r',\n",
        "        width = width, edgecolor = 'black',\n",
        "        label='Data Processing')\n",
        "\n",
        "plt.xlabel(\"Time Frames\")\n",
        "plt.ylabel(\"Big Data Validity\")\n",
        "plt.title(\"Big Data Validity in big data pipeline at each time frame\")\n",
        "  \n",
        "# plt.grid(linestyle='--')\n",
        "plt.xticks(r + width/2,['T1','T2','T3'])\n",
        "plt.legend()\n",
        "  \n",
        "plt.show()"
      ],
      "metadata": {
        "colab": {
          "base_uri": "https://localhost:8080/",
          "height": 295
        },
        "id": "zJb7WakVUJVk",
        "outputId": "613aaa29-6527-41e5-a45a-8a38ccbdc007"
      },
      "execution_count": null,
      "outputs": [
        {
          "output_type": "display_data",
          "data": {
            "text/plain": [
              "<Figure size 432x288 with 1 Axes>"
            ],
            "image/png": "[encoded data removed]"
          },
          "metadata": {
            "needs_background": "light"
          }
        }
      ]
    },
    {
      "cell_type": "code",
      "source": [
        "import numpy as np\n",
        "import matplotlib.pyplot as plt\n",
        "    \n",
        "n=3\n",
        "r = np.arange(n)\n",
        "width = .15\n",
        "  \n",
        "  \n",
        "plt.bar(r, [Mvin_dataExtraction_T1, Mvin_dataExtraction_T2, Mvin_dataExtraction_T3], color = 'b',\n",
        "        width = width, edgecolor = 'black',\n",
        "        label='Data Extraction')\n",
        "\n",
        "plt.bar(r + width + 0.05, [Mvin_dataCleaning_T1, Mvin_dataCleaning_T2, Mvin_dataCleaning_T3], color = 'g',\n",
        "        width = width, edgecolor = 'black',\n",
        "        label='Data Cleaning')\n",
        "\n",
        "plt.bar(r + width + width + 0.1, [Mvin_dataProcessing_T1, Mvin_dataProcessing_T2, Mvin_dataProcessing_T3], color = 'r',\n",
        "        width = width, edgecolor = 'black',\n",
        "        label='Data Processing')\n",
        "\n",
        "plt.xlabel(\"Time Frames\")\n",
        "plt.ylabel(\"Big Data Vincularity\")\n",
        "plt.title(\"Big Data Vincularity in big data pipeline at each time frame\")\n",
        "  \n",
        "# plt.grid(linestyle='--')\n",
        "plt.xticks(r + width/2,['T1','T2','T3'])\n",
        "plt.legend()\n",
        "  \n",
        "plt.show()"
      ],
      "metadata": {
        "colab": {
          "base_uri": "https://localhost:8080/",
          "height": 295
        },
        "id": "0XFjxtEgU3JT",
        "outputId": "dd4406bd-2610-4159-8f86-2d10e05fa601"
      },
      "execution_count": null,
      "outputs": [
        {
          "output_type": "display_data",
          "data": {
            "text/plain": [
              "<Figure size 432x288 with 1 Axes>"
            ],
            "image/png": "[encoded data removed]"
          },
          "metadata": {
            "needs_background": "light"
          }
        }
      ]
    }
  ]
}